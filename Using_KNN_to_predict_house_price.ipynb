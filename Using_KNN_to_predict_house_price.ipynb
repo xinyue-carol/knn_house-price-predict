{
  "nbformat": 4,
  "nbformat_minor": 0,
  "metadata": {
    "colab": {
      "name": "Using KNN to predict house price.ipynb",
      "provenance": [],
      "collapsed_sections": [],
      "toc_visible": true
    },
    "kernelspec": {
      "name": "python3",
      "display_name": "Python 3"
    }
  },
  "cells": [
    {
      "cell_type": "markdown",
      "metadata": {
        "id": "ZYL_RR5q9MGW"
      },
      "source": [
        "# I. Overall understanding of the data"
      ]
    },
    {
      "cell_type": "code",
      "metadata": {
        "id": "LI7nGFmn4o0Z",
        "colab": {
          "base_uri": "https://localhost:8080/"
        },
        "outputId": "002f7f08-97f0-4bdc-f5df-6467d39f8f2e"
      },
      "source": [
        "from google.colab import drive\n",
        "drive.mount('/gdrive')\n",
        "%cd /gdrive"
      ],
      "execution_count": null,
      "outputs": [
        {
          "output_type": "stream",
          "text": [
            "Drive already mounted at /gdrive; to attempt to forcibly remount, call drive.mount(\"/gdrive\", force_remount=True).\n",
            "/gdrive\n"
          ],
          "name": "stdout"
        }
      ]
    },
    {
      "cell_type": "code",
      "metadata": {
        "id": "n_SPxe_85cTs"
      },
      "source": [
        "#1. Load the data as a Pandas DataFrame.\n",
        "import pandas as pd\n",
        "file= r'/gdrive/My Drive/2021 GC/dm/homework2/train.csv'\n",
        "df= pd.read_csv(file)\n"
      ],
      "execution_count": null,
      "outputs": []
    },
    {
      "cell_type": "code",
      "metadata": {
        "colab": {
          "base_uri": "https://localhost:8080/"
        },
        "id": "DZbbHxfU3-iH",
        "outputId": "bd58f788-359c-402e-fef5-aae2fb442c24"
      },
      "source": [
        "#2. Display:\n",
        "#    - The first 5 rows of the dataset\n",
        "print(\"- The first 5 rows of the dataset-\")\n",
        "print(df.head(5))"
      ],
      "execution_count": null,
      "outputs": [
        {
          "output_type": "stream",
          "text": [
            "- The first 5 rows of the dataset-\n",
            "   Id  MSSubClass MSZoning  ...  SaleType  SaleCondition SalePrice\n",
            "0   1          60       RL  ...        WD         Normal    208500\n",
            "1   2          20       RL  ...        WD         Normal    181500\n",
            "2   3          60       RL  ...        WD         Normal    223500\n",
            "3   4          70       RL  ...        WD        Abnorml    140000\n",
            "4   5          60       RL  ...        WD         Normal    250000\n",
            "\n",
            "[5 rows x 81 columns]\n"
          ],
          "name": "stdout"
        }
      ]
    },
    {
      "cell_type": "code",
      "metadata": {
        "id": "3nXuwNJf4oUE",
        "colab": {
          "base_uri": "https://localhost:8080/"
        },
        "outputId": "c321286d-4191-4ac0-9221-01af43848e68"
      },
      "source": [
        "#    - Number of instances\n",
        "print(\"-number of instances-\")\n",
        "print(len(df.index))"
      ],
      "execution_count": null,
      "outputs": [
        {
          "output_type": "stream",
          "text": [
            "-number of instances-\n",
            "1460\n"
          ],
          "name": "stdout"
        }
      ]
    },
    {
      "cell_type": "code",
      "metadata": {
        "id": "YfRSdulE4nlZ",
        "colab": {
          "base_uri": "https://localhost:8080/"
        },
        "outputId": "a9c7a1bc-6507-4a4a-b98f-2a0c76a48c5e"
      },
      "source": [
        "# - Number of features\n",
        "print(\"- Number of features-\")\n",
        "print(len(df.columns))"
      ],
      "execution_count": null,
      "outputs": [
        {
          "output_type": "stream",
          "text": [
            "- Number of features-\n",
            "81\n"
          ],
          "name": "stdout"
        }
      ]
    },
    {
      "cell_type": "code",
      "metadata": {
        "colab": {
          "base_uri": "https://localhost:8080/"
        },
        "id": "_j_HCF_cB73w",
        "outputId": "d5b8312f-21b6-433e-fb2c-6bc3d9f30fa2"
      },
      "source": [
        "#- Feature names\n",
        "print(\"- Feature names-\")\n",
        "print(df.columns.values)"
      ],
      "execution_count": null,
      "outputs": [
        {
          "output_type": "stream",
          "text": [
            "- Feature names-\n",
            "['Id' 'MSSubClass' 'MSZoning' 'LotFrontage' 'LotArea' 'Street' 'Alley'\n",
            " 'LotShape' 'LandContour' 'Utilities' 'LotConfig' 'LandSlope'\n",
            " 'Neighborhood' 'Condition1' 'Condition2' 'BldgType' 'HouseStyle'\n",
            " 'OverallQual' 'OverallCond' 'YearBuilt' 'YearRemodAdd' 'RoofStyle'\n",
            " 'RoofMatl' 'Exterior1st' 'Exterior2nd' 'MasVnrType' 'MasVnrArea'\n",
            " 'ExterQual' 'ExterCond' 'Foundation' 'BsmtQual' 'BsmtCond' 'BsmtExposure'\n",
            " 'BsmtFinType1' 'BsmtFinSF1' 'BsmtFinType2' 'BsmtFinSF2' 'BsmtUnfSF'\n",
            " 'TotalBsmtSF' 'Heating' 'HeatingQC' 'CentralAir' 'Electrical' '1stFlrSF'\n",
            " '2ndFlrSF' 'LowQualFinSF' 'GrLivArea' 'BsmtFullBath' 'BsmtHalfBath'\n",
            " 'FullBath' 'HalfBath' 'BedroomAbvGr' 'KitchenAbvGr' 'KitchenQual'\n",
            " 'TotRmsAbvGrd' 'Functional' 'Fireplaces' 'FireplaceQu' 'GarageType'\n",
            " 'GarageYrBlt' 'GarageFinish' 'GarageCars' 'GarageArea' 'GarageQual'\n",
            " 'GarageCond' 'PavedDrive' 'WoodDeckSF' 'OpenPorchSF' 'EnclosedPorch'\n",
            " '3SsnPorch' 'ScreenPorch' 'PoolArea' 'PoolQC' 'Fence' 'MiscFeature'\n",
            " 'MiscVal' 'MoSold' 'YrSold' 'SaleType' 'SaleCondition' 'SalePrice']\n"
          ],
          "name": "stdout"
        }
      ]
    },
    {
      "cell_type": "code",
      "metadata": {
        "colab": {
          "base_uri": "https://localhost:8080/"
        },
        "id": "W0nmB1ZRCAyw",
        "outputId": "9be824c7-ba22-40d3-9a98-2fa3d6352457"
      },
      "source": [
        "#    - Data type of each feature\n",
        "print(\"- Data type of each feature\")\n",
        "df.dtypes"
      ],
      "execution_count": null,
      "outputs": [
        {
          "output_type": "stream",
          "text": [
            "- Data type of each feature\n"
          ],
          "name": "stdout"
        },
        {
          "output_type": "execute_result",
          "data": {
            "text/plain": [
              "Id                 int64\n",
              "MSSubClass         int64\n",
              "MSZoning          object\n",
              "LotFrontage      float64\n",
              "LotArea            int64\n",
              "                  ...   \n",
              "MoSold             int64\n",
              "YrSold             int64\n",
              "SaleType          object\n",
              "SaleCondition     object\n",
              "SalePrice          int64\n",
              "Length: 81, dtype: object"
            ]
          },
          "metadata": {
            "tags": []
          },
          "execution_count": 30
        }
      ]
    },
    {
      "cell_type": "code",
      "metadata": {
        "colab": {
          "base_uri": "https://localhost:8080/"
        },
        "id": "N83BWu8pCCD0",
        "outputId": "c8136546-dfc4-47d6-b31d-edd7c942e9ce"
      },
      "source": [
        "# - Number of missing values for each feature\n",
        "print(\"- Number of missing values for each feature\")\n",
        "print(df.isna().sum())"
      ],
      "execution_count": null,
      "outputs": [
        {
          "output_type": "stream",
          "text": [
            "- Number of missing values for each feature\n",
            "Id                 0\n",
            "MSSubClass         0\n",
            "MSZoning           0\n",
            "LotFrontage      259\n",
            "LotArea            0\n",
            "                ... \n",
            "MoSold             0\n",
            "YrSold             0\n",
            "SaleType           0\n",
            "SaleCondition      0\n",
            "SalePrice          0\n",
            "Length: 81, dtype: int64\n"
          ],
          "name": "stdout"
        }
      ]
    },
    {
      "cell_type": "code",
      "metadata": {
        "colab": {
          "base_uri": "https://localhost:8080/",
          "height": 435
        },
        "id": "ODmohUhGCbD5",
        "outputId": "dcaa2d98-dad3-4d30-c4b7-99c4f7b65b04"
      },
      "source": [
        "#3 Check if the data types are correctly identified. (A common situation is that a numeric feature is identified as \"object\")\n",
        "df.select_dtypes(include=['object'])\n",
        "#Data types are correctly identified"
      ],
      "execution_count": null,
      "outputs": [
        {
          "output_type": "execute_result",
          "data": {
            "text/html": [
              "<div>\n",
              "<style scoped>\n",
              "    .dataframe tbody tr th:only-of-type {\n",
              "        vertical-align: middle;\n",
              "    }\n",
              "\n",
              "    .dataframe tbody tr th {\n",
              "        vertical-align: top;\n",
              "    }\n",
              "\n",
              "    .dataframe thead th {\n",
              "        text-align: right;\n",
              "    }\n",
              "</style>\n",
              "<table border=\"1\" class=\"dataframe\">\n",
              "  <thead>\n",
              "    <tr style=\"text-align: right;\">\n",
              "      <th></th>\n",
              "      <th>MSZoning</th>\n",
              "      <th>Street</th>\n",
              "      <th>Alley</th>\n",
              "      <th>LotShape</th>\n",
              "      <th>LandContour</th>\n",
              "      <th>Utilities</th>\n",
              "      <th>LotConfig</th>\n",
              "      <th>LandSlope</th>\n",
              "      <th>Neighborhood</th>\n",
              "      <th>Condition1</th>\n",
              "      <th>Condition2</th>\n",
              "      <th>BldgType</th>\n",
              "      <th>HouseStyle</th>\n",
              "      <th>RoofStyle</th>\n",
              "      <th>RoofMatl</th>\n",
              "      <th>Exterior1st</th>\n",
              "      <th>Exterior2nd</th>\n",
              "      <th>MasVnrType</th>\n",
              "      <th>ExterQual</th>\n",
              "      <th>ExterCond</th>\n",
              "      <th>Foundation</th>\n",
              "      <th>BsmtQual</th>\n",
              "      <th>BsmtCond</th>\n",
              "      <th>BsmtExposure</th>\n",
              "      <th>BsmtFinType1</th>\n",
              "      <th>BsmtFinType2</th>\n",
              "      <th>Heating</th>\n",
              "      <th>HeatingQC</th>\n",
              "      <th>CentralAir</th>\n",
              "      <th>Electrical</th>\n",
              "      <th>KitchenQual</th>\n",
              "      <th>Functional</th>\n",
              "      <th>FireplaceQu</th>\n",
              "      <th>GarageType</th>\n",
              "      <th>GarageFinish</th>\n",
              "      <th>GarageQual</th>\n",
              "      <th>GarageCond</th>\n",
              "      <th>PavedDrive</th>\n",
              "      <th>PoolQC</th>\n",
              "      <th>Fence</th>\n",
              "      <th>MiscFeature</th>\n",
              "      <th>SaleType</th>\n",
              "      <th>SaleCondition</th>\n",
              "    </tr>\n",
              "  </thead>\n",
              "  <tbody>\n",
              "    <tr>\n",
              "      <th>0</th>\n",
              "      <td>RL</td>\n",
              "      <td>Pave</td>\n",
              "      <td>NaN</td>\n",
              "      <td>Reg</td>\n",
              "      <td>Lvl</td>\n",
              "      <td>AllPub</td>\n",
              "      <td>Inside</td>\n",
              "      <td>Gtl</td>\n",
              "      <td>CollgCr</td>\n",
              "      <td>Norm</td>\n",
              "      <td>Norm</td>\n",
              "      <td>1Fam</td>\n",
              "      <td>2Story</td>\n",
              "      <td>Gable</td>\n",
              "      <td>CompShg</td>\n",
              "      <td>VinylSd</td>\n",
              "      <td>VinylSd</td>\n",
              "      <td>BrkFace</td>\n",
              "      <td>Gd</td>\n",
              "      <td>TA</td>\n",
              "      <td>PConc</td>\n",
              "      <td>Gd</td>\n",
              "      <td>TA</td>\n",
              "      <td>No</td>\n",
              "      <td>GLQ</td>\n",
              "      <td>Unf</td>\n",
              "      <td>GasA</td>\n",
              "      <td>Ex</td>\n",
              "      <td>Y</td>\n",
              "      <td>SBrkr</td>\n",
              "      <td>Gd</td>\n",
              "      <td>Typ</td>\n",
              "      <td>NaN</td>\n",
              "      <td>Attchd</td>\n",
              "      <td>RFn</td>\n",
              "      <td>TA</td>\n",
              "      <td>TA</td>\n",
              "      <td>Y</td>\n",
              "      <td>NaN</td>\n",
              "      <td>NaN</td>\n",
              "      <td>NaN</td>\n",
              "      <td>WD</td>\n",
              "      <td>Normal</td>\n",
              "    </tr>\n",
              "    <tr>\n",
              "      <th>1</th>\n",
              "      <td>RL</td>\n",
              "      <td>Pave</td>\n",
              "      <td>NaN</td>\n",
              "      <td>Reg</td>\n",
              "      <td>Lvl</td>\n",
              "      <td>AllPub</td>\n",
              "      <td>FR2</td>\n",
              "      <td>Gtl</td>\n",
              "      <td>Veenker</td>\n",
              "      <td>Feedr</td>\n",
              "      <td>Norm</td>\n",
              "      <td>1Fam</td>\n",
              "      <td>1Story</td>\n",
              "      <td>Gable</td>\n",
              "      <td>CompShg</td>\n",
              "      <td>MetalSd</td>\n",
              "      <td>MetalSd</td>\n",
              "      <td>None</td>\n",
              "      <td>TA</td>\n",
              "      <td>TA</td>\n",
              "      <td>CBlock</td>\n",
              "      <td>Gd</td>\n",
              "      <td>TA</td>\n",
              "      <td>Gd</td>\n",
              "      <td>ALQ</td>\n",
              "      <td>Unf</td>\n",
              "      <td>GasA</td>\n",
              "      <td>Ex</td>\n",
              "      <td>Y</td>\n",
              "      <td>SBrkr</td>\n",
              "      <td>TA</td>\n",
              "      <td>Typ</td>\n",
              "      <td>TA</td>\n",
              "      <td>Attchd</td>\n",
              "      <td>RFn</td>\n",
              "      <td>TA</td>\n",
              "      <td>TA</td>\n",
              "      <td>Y</td>\n",
              "      <td>NaN</td>\n",
              "      <td>NaN</td>\n",
              "      <td>NaN</td>\n",
              "      <td>WD</td>\n",
              "      <td>Normal</td>\n",
              "    </tr>\n",
              "    <tr>\n",
              "      <th>2</th>\n",
              "      <td>RL</td>\n",
              "      <td>Pave</td>\n",
              "      <td>NaN</td>\n",
              "      <td>IR1</td>\n",
              "      <td>Lvl</td>\n",
              "      <td>AllPub</td>\n",
              "      <td>Inside</td>\n",
              "      <td>Gtl</td>\n",
              "      <td>CollgCr</td>\n",
              "      <td>Norm</td>\n",
              "      <td>Norm</td>\n",
              "      <td>1Fam</td>\n",
              "      <td>2Story</td>\n",
              "      <td>Gable</td>\n",
              "      <td>CompShg</td>\n",
              "      <td>VinylSd</td>\n",
              "      <td>VinylSd</td>\n",
              "      <td>BrkFace</td>\n",
              "      <td>Gd</td>\n",
              "      <td>TA</td>\n",
              "      <td>PConc</td>\n",
              "      <td>Gd</td>\n",
              "      <td>TA</td>\n",
              "      <td>Mn</td>\n",
              "      <td>GLQ</td>\n",
              "      <td>Unf</td>\n",
              "      <td>GasA</td>\n",
              "      <td>Ex</td>\n",
              "      <td>Y</td>\n",
              "      <td>SBrkr</td>\n",
              "      <td>Gd</td>\n",
              "      <td>Typ</td>\n",
              "      <td>TA</td>\n",
              "      <td>Attchd</td>\n",
              "      <td>RFn</td>\n",
              "      <td>TA</td>\n",
              "      <td>TA</td>\n",
              "      <td>Y</td>\n",
              "      <td>NaN</td>\n",
              "      <td>NaN</td>\n",
              "      <td>NaN</td>\n",
              "      <td>WD</td>\n",
              "      <td>Normal</td>\n",
              "    </tr>\n",
              "    <tr>\n",
              "      <th>3</th>\n",
              "      <td>RL</td>\n",
              "      <td>Pave</td>\n",
              "      <td>NaN</td>\n",
              "      <td>IR1</td>\n",
              "      <td>Lvl</td>\n",
              "      <td>AllPub</td>\n",
              "      <td>Corner</td>\n",
              "      <td>Gtl</td>\n",
              "      <td>Crawfor</td>\n",
              "      <td>Norm</td>\n",
              "      <td>Norm</td>\n",
              "      <td>1Fam</td>\n",
              "      <td>2Story</td>\n",
              "      <td>Gable</td>\n",
              "      <td>CompShg</td>\n",
              "      <td>Wd Sdng</td>\n",
              "      <td>Wd Shng</td>\n",
              "      <td>None</td>\n",
              "      <td>TA</td>\n",
              "      <td>TA</td>\n",
              "      <td>BrkTil</td>\n",
              "      <td>TA</td>\n",
              "      <td>Gd</td>\n",
              "      <td>No</td>\n",
              "      <td>ALQ</td>\n",
              "      <td>Unf</td>\n",
              "      <td>GasA</td>\n",
              "      <td>Gd</td>\n",
              "      <td>Y</td>\n",
              "      <td>SBrkr</td>\n",
              "      <td>Gd</td>\n",
              "      <td>Typ</td>\n",
              "      <td>Gd</td>\n",
              "      <td>Detchd</td>\n",
              "      <td>Unf</td>\n",
              "      <td>TA</td>\n",
              "      <td>TA</td>\n",
              "      <td>Y</td>\n",
              "      <td>NaN</td>\n",
              "      <td>NaN</td>\n",
              "      <td>NaN</td>\n",
              "      <td>WD</td>\n",
              "      <td>Abnorml</td>\n",
              "    </tr>\n",
              "    <tr>\n",
              "      <th>4</th>\n",
              "      <td>RL</td>\n",
              "      <td>Pave</td>\n",
              "      <td>NaN</td>\n",
              "      <td>IR1</td>\n",
              "      <td>Lvl</td>\n",
              "      <td>AllPub</td>\n",
              "      <td>FR2</td>\n",
              "      <td>Gtl</td>\n",
              "      <td>NoRidge</td>\n",
              "      <td>Norm</td>\n",
              "      <td>Norm</td>\n",
              "      <td>1Fam</td>\n",
              "      <td>2Story</td>\n",
              "      <td>Gable</td>\n",
              "      <td>CompShg</td>\n",
              "      <td>VinylSd</td>\n",
              "      <td>VinylSd</td>\n",
              "      <td>BrkFace</td>\n",
              "      <td>Gd</td>\n",
              "      <td>TA</td>\n",
              "      <td>PConc</td>\n",
              "      <td>Gd</td>\n",
              "      <td>TA</td>\n",
              "      <td>Av</td>\n",
              "      <td>GLQ</td>\n",
              "      <td>Unf</td>\n",
              "      <td>GasA</td>\n",
              "      <td>Ex</td>\n",
              "      <td>Y</td>\n",
              "      <td>SBrkr</td>\n",
              "      <td>Gd</td>\n",
              "      <td>Typ</td>\n",
              "      <td>TA</td>\n",
              "      <td>Attchd</td>\n",
              "      <td>RFn</td>\n",
              "      <td>TA</td>\n",
              "      <td>TA</td>\n",
              "      <td>Y</td>\n",
              "      <td>NaN</td>\n",
              "      <td>NaN</td>\n",
              "      <td>NaN</td>\n",
              "      <td>WD</td>\n",
              "      <td>Normal</td>\n",
              "    </tr>\n",
              "    <tr>\n",
              "      <th>...</th>\n",
              "      <td>...</td>\n",
              "      <td>...</td>\n",
              "      <td>...</td>\n",
              "      <td>...</td>\n",
              "      <td>...</td>\n",
              "      <td>...</td>\n",
              "      <td>...</td>\n",
              "      <td>...</td>\n",
              "      <td>...</td>\n",
              "      <td>...</td>\n",
              "      <td>...</td>\n",
              "      <td>...</td>\n",
              "      <td>...</td>\n",
              "      <td>...</td>\n",
              "      <td>...</td>\n",
              "      <td>...</td>\n",
              "      <td>...</td>\n",
              "      <td>...</td>\n",
              "      <td>...</td>\n",
              "      <td>...</td>\n",
              "      <td>...</td>\n",
              "      <td>...</td>\n",
              "      <td>...</td>\n",
              "      <td>...</td>\n",
              "      <td>...</td>\n",
              "      <td>...</td>\n",
              "      <td>...</td>\n",
              "      <td>...</td>\n",
              "      <td>...</td>\n",
              "      <td>...</td>\n",
              "      <td>...</td>\n",
              "      <td>...</td>\n",
              "      <td>...</td>\n",
              "      <td>...</td>\n",
              "      <td>...</td>\n",
              "      <td>...</td>\n",
              "      <td>...</td>\n",
              "      <td>...</td>\n",
              "      <td>...</td>\n",
              "      <td>...</td>\n",
              "      <td>...</td>\n",
              "      <td>...</td>\n",
              "      <td>...</td>\n",
              "    </tr>\n",
              "    <tr>\n",
              "      <th>1455</th>\n",
              "      <td>RL</td>\n",
              "      <td>Pave</td>\n",
              "      <td>NaN</td>\n",
              "      <td>Reg</td>\n",
              "      <td>Lvl</td>\n",
              "      <td>AllPub</td>\n",
              "      <td>Inside</td>\n",
              "      <td>Gtl</td>\n",
              "      <td>Gilbert</td>\n",
              "      <td>Norm</td>\n",
              "      <td>Norm</td>\n",
              "      <td>1Fam</td>\n",
              "      <td>2Story</td>\n",
              "      <td>Gable</td>\n",
              "      <td>CompShg</td>\n",
              "      <td>VinylSd</td>\n",
              "      <td>VinylSd</td>\n",
              "      <td>None</td>\n",
              "      <td>TA</td>\n",
              "      <td>TA</td>\n",
              "      <td>PConc</td>\n",
              "      <td>Gd</td>\n",
              "      <td>TA</td>\n",
              "      <td>No</td>\n",
              "      <td>Unf</td>\n",
              "      <td>Unf</td>\n",
              "      <td>GasA</td>\n",
              "      <td>Ex</td>\n",
              "      <td>Y</td>\n",
              "      <td>SBrkr</td>\n",
              "      <td>TA</td>\n",
              "      <td>Typ</td>\n",
              "      <td>TA</td>\n",
              "      <td>Attchd</td>\n",
              "      <td>RFn</td>\n",
              "      <td>TA</td>\n",
              "      <td>TA</td>\n",
              "      <td>Y</td>\n",
              "      <td>NaN</td>\n",
              "      <td>NaN</td>\n",
              "      <td>NaN</td>\n",
              "      <td>WD</td>\n",
              "      <td>Normal</td>\n",
              "    </tr>\n",
              "    <tr>\n",
              "      <th>1456</th>\n",
              "      <td>RL</td>\n",
              "      <td>Pave</td>\n",
              "      <td>NaN</td>\n",
              "      <td>Reg</td>\n",
              "      <td>Lvl</td>\n",
              "      <td>AllPub</td>\n",
              "      <td>Inside</td>\n",
              "      <td>Gtl</td>\n",
              "      <td>NWAmes</td>\n",
              "      <td>Norm</td>\n",
              "      <td>Norm</td>\n",
              "      <td>1Fam</td>\n",
              "      <td>1Story</td>\n",
              "      <td>Gable</td>\n",
              "      <td>CompShg</td>\n",
              "      <td>Plywood</td>\n",
              "      <td>Plywood</td>\n",
              "      <td>Stone</td>\n",
              "      <td>TA</td>\n",
              "      <td>TA</td>\n",
              "      <td>CBlock</td>\n",
              "      <td>Gd</td>\n",
              "      <td>TA</td>\n",
              "      <td>No</td>\n",
              "      <td>ALQ</td>\n",
              "      <td>Rec</td>\n",
              "      <td>GasA</td>\n",
              "      <td>TA</td>\n",
              "      <td>Y</td>\n",
              "      <td>SBrkr</td>\n",
              "      <td>TA</td>\n",
              "      <td>Min1</td>\n",
              "      <td>TA</td>\n",
              "      <td>Attchd</td>\n",
              "      <td>Unf</td>\n",
              "      <td>TA</td>\n",
              "      <td>TA</td>\n",
              "      <td>Y</td>\n",
              "      <td>NaN</td>\n",
              "      <td>MnPrv</td>\n",
              "      <td>NaN</td>\n",
              "      <td>WD</td>\n",
              "      <td>Normal</td>\n",
              "    </tr>\n",
              "    <tr>\n",
              "      <th>1457</th>\n",
              "      <td>RL</td>\n",
              "      <td>Pave</td>\n",
              "      <td>NaN</td>\n",
              "      <td>Reg</td>\n",
              "      <td>Lvl</td>\n",
              "      <td>AllPub</td>\n",
              "      <td>Inside</td>\n",
              "      <td>Gtl</td>\n",
              "      <td>Crawfor</td>\n",
              "      <td>Norm</td>\n",
              "      <td>Norm</td>\n",
              "      <td>1Fam</td>\n",
              "      <td>2Story</td>\n",
              "      <td>Gable</td>\n",
              "      <td>CompShg</td>\n",
              "      <td>CemntBd</td>\n",
              "      <td>CmentBd</td>\n",
              "      <td>None</td>\n",
              "      <td>Ex</td>\n",
              "      <td>Gd</td>\n",
              "      <td>Stone</td>\n",
              "      <td>TA</td>\n",
              "      <td>Gd</td>\n",
              "      <td>No</td>\n",
              "      <td>GLQ</td>\n",
              "      <td>Unf</td>\n",
              "      <td>GasA</td>\n",
              "      <td>Ex</td>\n",
              "      <td>Y</td>\n",
              "      <td>SBrkr</td>\n",
              "      <td>Gd</td>\n",
              "      <td>Typ</td>\n",
              "      <td>Gd</td>\n",
              "      <td>Attchd</td>\n",
              "      <td>RFn</td>\n",
              "      <td>TA</td>\n",
              "      <td>TA</td>\n",
              "      <td>Y</td>\n",
              "      <td>NaN</td>\n",
              "      <td>GdPrv</td>\n",
              "      <td>Shed</td>\n",
              "      <td>WD</td>\n",
              "      <td>Normal</td>\n",
              "    </tr>\n",
              "    <tr>\n",
              "      <th>1458</th>\n",
              "      <td>RL</td>\n",
              "      <td>Pave</td>\n",
              "      <td>NaN</td>\n",
              "      <td>Reg</td>\n",
              "      <td>Lvl</td>\n",
              "      <td>AllPub</td>\n",
              "      <td>Inside</td>\n",
              "      <td>Gtl</td>\n",
              "      <td>NAmes</td>\n",
              "      <td>Norm</td>\n",
              "      <td>Norm</td>\n",
              "      <td>1Fam</td>\n",
              "      <td>1Story</td>\n",
              "      <td>Hip</td>\n",
              "      <td>CompShg</td>\n",
              "      <td>MetalSd</td>\n",
              "      <td>MetalSd</td>\n",
              "      <td>None</td>\n",
              "      <td>TA</td>\n",
              "      <td>TA</td>\n",
              "      <td>CBlock</td>\n",
              "      <td>TA</td>\n",
              "      <td>TA</td>\n",
              "      <td>Mn</td>\n",
              "      <td>GLQ</td>\n",
              "      <td>Rec</td>\n",
              "      <td>GasA</td>\n",
              "      <td>Gd</td>\n",
              "      <td>Y</td>\n",
              "      <td>FuseA</td>\n",
              "      <td>Gd</td>\n",
              "      <td>Typ</td>\n",
              "      <td>NaN</td>\n",
              "      <td>Attchd</td>\n",
              "      <td>Unf</td>\n",
              "      <td>TA</td>\n",
              "      <td>TA</td>\n",
              "      <td>Y</td>\n",
              "      <td>NaN</td>\n",
              "      <td>NaN</td>\n",
              "      <td>NaN</td>\n",
              "      <td>WD</td>\n",
              "      <td>Normal</td>\n",
              "    </tr>\n",
              "    <tr>\n",
              "      <th>1459</th>\n",
              "      <td>RL</td>\n",
              "      <td>Pave</td>\n",
              "      <td>NaN</td>\n",
              "      <td>Reg</td>\n",
              "      <td>Lvl</td>\n",
              "      <td>AllPub</td>\n",
              "      <td>Inside</td>\n",
              "      <td>Gtl</td>\n",
              "      <td>Edwards</td>\n",
              "      <td>Norm</td>\n",
              "      <td>Norm</td>\n",
              "      <td>1Fam</td>\n",
              "      <td>1Story</td>\n",
              "      <td>Gable</td>\n",
              "      <td>CompShg</td>\n",
              "      <td>HdBoard</td>\n",
              "      <td>HdBoard</td>\n",
              "      <td>None</td>\n",
              "      <td>Gd</td>\n",
              "      <td>TA</td>\n",
              "      <td>CBlock</td>\n",
              "      <td>TA</td>\n",
              "      <td>TA</td>\n",
              "      <td>No</td>\n",
              "      <td>BLQ</td>\n",
              "      <td>LwQ</td>\n",
              "      <td>GasA</td>\n",
              "      <td>Gd</td>\n",
              "      <td>Y</td>\n",
              "      <td>SBrkr</td>\n",
              "      <td>TA</td>\n",
              "      <td>Typ</td>\n",
              "      <td>NaN</td>\n",
              "      <td>Attchd</td>\n",
              "      <td>Fin</td>\n",
              "      <td>TA</td>\n",
              "      <td>TA</td>\n",
              "      <td>Y</td>\n",
              "      <td>NaN</td>\n",
              "      <td>NaN</td>\n",
              "      <td>NaN</td>\n",
              "      <td>WD</td>\n",
              "      <td>Normal</td>\n",
              "    </tr>\n",
              "  </tbody>\n",
              "</table>\n",
              "<p>1460 rows × 43 columns</p>\n",
              "</div>"
            ],
            "text/plain": [
              "     MSZoning Street Alley LotShape  ...  Fence MiscFeature SaleType SaleCondition\n",
              "0          RL   Pave   NaN      Reg  ...    NaN         NaN       WD        Normal\n",
              "1          RL   Pave   NaN      Reg  ...    NaN         NaN       WD        Normal\n",
              "2          RL   Pave   NaN      IR1  ...    NaN         NaN       WD        Normal\n",
              "3          RL   Pave   NaN      IR1  ...    NaN         NaN       WD       Abnorml\n",
              "4          RL   Pave   NaN      IR1  ...    NaN         NaN       WD        Normal\n",
              "...       ...    ...   ...      ...  ...    ...         ...      ...           ...\n",
              "1455       RL   Pave   NaN      Reg  ...    NaN         NaN       WD        Normal\n",
              "1456       RL   Pave   NaN      Reg  ...  MnPrv         NaN       WD        Normal\n",
              "1457       RL   Pave   NaN      Reg  ...  GdPrv        Shed       WD        Normal\n",
              "1458       RL   Pave   NaN      Reg  ...    NaN         NaN       WD        Normal\n",
              "1459       RL   Pave   NaN      Reg  ...    NaN         NaN       WD        Normal\n",
              "\n",
              "[1460 rows x 43 columns]"
            ]
          },
          "metadata": {
            "tags": []
          },
          "execution_count": 32
        }
      ]
    },
    {
      "cell_type": "code",
      "metadata": {
        "id": "Mn0NVh72FYEl",
        "colab": {
          "base_uri": "https://localhost:8080/"
        },
        "outputId": "93b48622-b94d-45da-ae24-0e54acd547cf"
      },
      "source": [
        "#4 Handle missing values. - Remove the feature if more than 30% of its values are missing\n",
        "\"\"\"Handle missing values. There is no standard procedure of missing value imputation. For simplicity, follow the procedure below:\n",
        "    - Remove the feature if more than 30% of its values are missing\n",
        "    - Remove the rows containing the missing values if less than 5% of values are missing in a column\n",
        "    - If the percentage of missing values is between 5% and 30%, fill the missing data with the most frequent value (categorical feature) or the average value (for numeric feature).\n",
        "\"\"\"\n",
        "for column in df:\n",
        "  if df[column].isna().sum()>(len(df[column])*0.3):\n",
        "    df.drop([column], axis=1, inplace=True)\n",
        "  else:\n",
        "    next\n",
        "print(len(df.columns.values))"
      ],
      "execution_count": null,
      "outputs": [
        {
          "output_type": "stream",
          "text": [
            "76\n"
          ],
          "name": "stdout"
        }
      ]
    },
    {
      "cell_type": "code",
      "metadata": {
        "id": "O-fF_-UFo40M"
      },
      "source": [
        "# - Remove the rows containing the missing values if less than 5% of values are missing in a column\n",
        "small_list=[]\n",
        "for column in df:\n",
        "  if df[column].isna().sum()<(len(df[column])*0.05):\n",
        "    small_list.append(str(column))   \n",
        "  else:\n",
        "    next\n",
        "df.dropna(subset=small_list, inplace=True)"
      ],
      "execution_count": null,
      "outputs": []
    },
    {
      "cell_type": "code",
      "metadata": {
        "id": "xl-DAL4Zq0Gl",
        "colab": {
          "base_uri": "https://localhost:8080/"
        },
        "outputId": "a8d7eccd-cbc0-4319-8148-95fc5f2998ba"
      },
      "source": [
        "#- If the percentage of missing values is between 5% and 30%, fill the missing data with the most frequent value (categorical feature) or the average value (for numeric feature).\n",
        "df1=df.fillna(df.mode().iloc[0])\n",
        "df1.columns"
      ],
      "execution_count": null,
      "outputs": [
        {
          "output_type": "execute_result",
          "data": {
            "text/plain": [
              "Index(['Id', 'MSSubClass', 'MSZoning', 'LotFrontage', 'LotArea', 'Street',\n",
              "       'LotShape', 'LandContour', 'Utilities', 'LotConfig', 'LandSlope',\n",
              "       'Neighborhood', 'Condition1', 'Condition2', 'BldgType', 'HouseStyle',\n",
              "       'OverallQual', 'OverallCond', 'YearBuilt', 'YearRemodAdd', 'RoofStyle',\n",
              "       'RoofMatl', 'Exterior1st', 'Exterior2nd', 'MasVnrType', 'MasVnrArea',\n",
              "       'ExterQual', 'ExterCond', 'Foundation', 'BsmtQual', 'BsmtCond',\n",
              "       'BsmtExposure', 'BsmtFinType1', 'BsmtFinSF1', 'BsmtFinType2',\n",
              "       'BsmtFinSF2', 'BsmtUnfSF', 'TotalBsmtSF', 'Heating', 'HeatingQC',\n",
              "       'CentralAir', 'Electrical', '1stFlrSF', '2ndFlrSF', 'LowQualFinSF',\n",
              "       'GrLivArea', 'BsmtFullBath', 'BsmtHalfBath', 'FullBath', 'HalfBath',\n",
              "       'BedroomAbvGr', 'KitchenAbvGr', 'KitchenQual', 'TotRmsAbvGrd',\n",
              "       'Functional', 'Fireplaces', 'GarageType', 'GarageYrBlt', 'GarageFinish',\n",
              "       'GarageCars', 'GarageArea', 'GarageQual', 'GarageCond', 'PavedDrive',\n",
              "       'WoodDeckSF', 'OpenPorchSF', 'EnclosedPorch', '3SsnPorch',\n",
              "       'ScreenPorch', 'PoolArea', 'MiscVal', 'MoSold', 'YrSold', 'SaleType',\n",
              "       'SaleCondition', 'SalePrice'],\n",
              "      dtype='object')"
            ]
          },
          "metadata": {
            "tags": []
          },
          "execution_count": 35
        }
      ]
    },
    {
      "cell_type": "markdown",
      "metadata": {
        "id": "0RbOcN3Rs6hq"
      },
      "source": [
        "#II: Most relevant features"
      ]
    },
    {
      "cell_type": "code",
      "metadata": {
        "colab": {
          "base_uri": "https://localhost:8080/",
          "height": 202
        },
        "id": "BfIm6SDOs-GO",
        "outputId": "92427b83-8857-4c75-cc2b-cbf1838d4ac2"
      },
      "source": [
        "df2=df1[[\"OverallQual\",\"YearBuilt\",\"TotalBsmtSF\",\"GrLivArea\",\"SalePrice\"]]\n",
        "df2.head()"
      ],
      "execution_count": null,
      "outputs": [
        {
          "output_type": "execute_result",
          "data": {
            "text/html": [
              "<div>\n",
              "<style scoped>\n",
              "    .dataframe tbody tr th:only-of-type {\n",
              "        vertical-align: middle;\n",
              "    }\n",
              "\n",
              "    .dataframe tbody tr th {\n",
              "        vertical-align: top;\n",
              "    }\n",
              "\n",
              "    .dataframe thead th {\n",
              "        text-align: right;\n",
              "    }\n",
              "</style>\n",
              "<table border=\"1\" class=\"dataframe\">\n",
              "  <thead>\n",
              "    <tr style=\"text-align: right;\">\n",
              "      <th></th>\n",
              "      <th>OverallQual</th>\n",
              "      <th>YearBuilt</th>\n",
              "      <th>TotalBsmtSF</th>\n",
              "      <th>GrLivArea</th>\n",
              "      <th>SalePrice</th>\n",
              "    </tr>\n",
              "  </thead>\n",
              "  <tbody>\n",
              "    <tr>\n",
              "      <th>0</th>\n",
              "      <td>7</td>\n",
              "      <td>2003</td>\n",
              "      <td>856</td>\n",
              "      <td>1710</td>\n",
              "      <td>208500</td>\n",
              "    </tr>\n",
              "    <tr>\n",
              "      <th>1</th>\n",
              "      <td>6</td>\n",
              "      <td>1976</td>\n",
              "      <td>1262</td>\n",
              "      <td>1262</td>\n",
              "      <td>181500</td>\n",
              "    </tr>\n",
              "    <tr>\n",
              "      <th>2</th>\n",
              "      <td>7</td>\n",
              "      <td>2001</td>\n",
              "      <td>920</td>\n",
              "      <td>1786</td>\n",
              "      <td>223500</td>\n",
              "    </tr>\n",
              "    <tr>\n",
              "      <th>3</th>\n",
              "      <td>7</td>\n",
              "      <td>1915</td>\n",
              "      <td>756</td>\n",
              "      <td>1717</td>\n",
              "      <td>140000</td>\n",
              "    </tr>\n",
              "    <tr>\n",
              "      <th>4</th>\n",
              "      <td>8</td>\n",
              "      <td>2000</td>\n",
              "      <td>1145</td>\n",
              "      <td>2198</td>\n",
              "      <td>250000</td>\n",
              "    </tr>\n",
              "  </tbody>\n",
              "</table>\n",
              "</div>"
            ],
            "text/plain": [
              "   OverallQual  YearBuilt  TotalBsmtSF  GrLivArea  SalePrice\n",
              "0            7       2003          856       1710     208500\n",
              "1            6       1976         1262       1262     181500\n",
              "2            7       2001          920       1786     223500\n",
              "3            7       1915          756       1717     140000\n",
              "4            8       2000         1145       2198     250000"
            ]
          },
          "metadata": {
            "tags": []
          },
          "execution_count": 37
        }
      ]
    },
    {
      "cell_type": "code",
      "metadata": {
        "colab": {
          "base_uri": "https://localhost:8080/",
          "height": 294
        },
        "id": "YERmkFVgu171",
        "outputId": "a314044c-227b-4a3c-c9b6-7f2735dbb35f"
      },
      "source": [
        "#1. Descriptive statistics: minimum, mean, median, maximum, standard deviation\n",
        "df2.describe()"
      ],
      "execution_count": null,
      "outputs": [
        {
          "output_type": "execute_result",
          "data": {
            "text/html": [
              "<div>\n",
              "<style scoped>\n",
              "    .dataframe tbody tr th:only-of-type {\n",
              "        vertical-align: middle;\n",
              "    }\n",
              "\n",
              "    .dataframe tbody tr th {\n",
              "        vertical-align: top;\n",
              "    }\n",
              "\n",
              "    .dataframe thead th {\n",
              "        text-align: right;\n",
              "    }\n",
              "</style>\n",
              "<table border=\"1\" class=\"dataframe\">\n",
              "  <thead>\n",
              "    <tr style=\"text-align: right;\">\n",
              "      <th></th>\n",
              "      <th>OverallQual</th>\n",
              "      <th>YearBuilt</th>\n",
              "      <th>TotalBsmtSF</th>\n",
              "      <th>GrLivArea</th>\n",
              "      <th>SalePrice</th>\n",
              "    </tr>\n",
              "  </thead>\n",
              "  <tbody>\n",
              "    <tr>\n",
              "      <th>count</th>\n",
              "      <td>1412.000000</td>\n",
              "      <td>1412.000000</td>\n",
              "      <td>1412.000000</td>\n",
              "      <td>1412.000000</td>\n",
              "      <td>1412.000000</td>\n",
              "    </tr>\n",
              "    <tr>\n",
              "      <th>mean</th>\n",
              "      <td>6.138810</td>\n",
              "      <td>1971.428470</td>\n",
              "      <td>1082.552408</td>\n",
              "      <td>1519.799575</td>\n",
              "      <td>182507.021955</td>\n",
              "    </tr>\n",
              "    <tr>\n",
              "      <th>std</th>\n",
              "      <td>1.357655</td>\n",
              "      <td>30.371732</td>\n",
              "      <td>404.766998</td>\n",
              "      <td>526.846267</td>\n",
              "      <td>79270.416057</td>\n",
              "    </tr>\n",
              "    <tr>\n",
              "      <th>min</th>\n",
              "      <td>1.000000</td>\n",
              "      <td>1872.000000</td>\n",
              "      <td>105.000000</td>\n",
              "      <td>438.000000</td>\n",
              "      <td>34900.000000</td>\n",
              "    </tr>\n",
              "    <tr>\n",
              "      <th>25%</th>\n",
              "      <td>5.000000</td>\n",
              "      <td>1954.000000</td>\n",
              "      <td>809.500000</td>\n",
              "      <td>1135.750000</td>\n",
              "      <td>131475.000000</td>\n",
              "    </tr>\n",
              "    <tr>\n",
              "      <th>50%</th>\n",
              "      <td>6.000000</td>\n",
              "      <td>1973.000000</td>\n",
              "      <td>1004.000000</td>\n",
              "      <td>1467.000000</td>\n",
              "      <td>164600.000000</td>\n",
              "    </tr>\n",
              "    <tr>\n",
              "      <th>75%</th>\n",
              "      <td>7.000000</td>\n",
              "      <td>2000.250000</td>\n",
              "      <td>1306.750000</td>\n",
              "      <td>1784.500000</td>\n",
              "      <td>215000.000000</td>\n",
              "    </tr>\n",
              "    <tr>\n",
              "      <th>max</th>\n",
              "      <td>10.000000</td>\n",
              "      <td>2010.000000</td>\n",
              "      <td>6110.000000</td>\n",
              "      <td>5642.000000</td>\n",
              "      <td>755000.000000</td>\n",
              "    </tr>\n",
              "  </tbody>\n",
              "</table>\n",
              "</div>"
            ],
            "text/plain": [
              "       OverallQual    YearBuilt  TotalBsmtSF    GrLivArea      SalePrice\n",
              "count  1412.000000  1412.000000  1412.000000  1412.000000    1412.000000\n",
              "mean      6.138810  1971.428470  1082.552408  1519.799575  182507.021955\n",
              "std       1.357655    30.371732   404.766998   526.846267   79270.416057\n",
              "min       1.000000  1872.000000   105.000000   438.000000   34900.000000\n",
              "25%       5.000000  1954.000000   809.500000  1135.750000  131475.000000\n",
              "50%       6.000000  1973.000000  1004.000000  1467.000000  164600.000000\n",
              "75%       7.000000  2000.250000  1306.750000  1784.500000  215000.000000\n",
              "max      10.000000  2010.000000  6110.000000  5642.000000  755000.000000"
            ]
          },
          "metadata": {
            "tags": []
          },
          "execution_count": 38
        }
      ]
    },
    {
      "cell_type": "code",
      "metadata": {
        "colab": {
          "base_uri": "https://localhost:8080/",
          "height": 639
        },
        "id": "TY_EBbvvvdst",
        "outputId": "cd5923b3-0dcf-4771-fc88-f1799c6a521b"
      },
      "source": [
        "import matplotlib.pyplot as plt\n",
        "fig = plt.figure(figsize=(10, 10))\n",
        "\n",
        "ax1 = fig.add_subplot(2, 3, 1)\n",
        "ax1=df2[\"OverallQual\"].plot(kind=\"hist\", title=\"OverallQual\")\n",
        "ax1.set_xlabel(\"Quality rank\")\n",
        "\n",
        "ax2 = fig.add_subplot(2, 3, 2)\n",
        "ax2=df2[\"YearBuilt\"].plot(kind=\"hist\", title=\"YearBuilt\")\n",
        "ax2.set_xlabel(\"YearBuilt\")\n",
        "\n",
        "ax3 = fig.add_subplot(2, 3, 3)\n",
        "ax3=df2[\"TotalBsmtSF\"].plot(kind=\"hist\", title=\"TotalBsmtSF\")\n",
        "ax3.set_xlabel(\"TotalBsmtSF\")\n",
        "\n",
        "ax4 = fig.add_subplot(2, 3, 4)\n",
        "ax4=df2[\"GrLivArea\"].plot(kind=\"hist\", title=\"GrLivArea\")\n",
        "ax4.set_xlabel(\"GrLivArea\")\n",
        "\n",
        "ax4 = fig.add_subplot(2, 3, 5)\n",
        "ax5=df2[\"SalePrice\"].plot(kind=\"hist\", title=\"SalePrice\")\n",
        "ax5.set_xlabel(\"SalePrice\")"
      ],
      "execution_count": null,
      "outputs": [
        {
          "output_type": "execute_result",
          "data": {
            "text/plain": [
              "Text(0.5, 0, 'SalePrice')"
            ]
          },
          "metadata": {
            "tags": []
          },
          "execution_count": 42
        },
        {
          "output_type": "display_data",
          "data": {
            "image/png": "[encoded data removed]",
            "text/plain": [
              "<Figure size 720x720 with 5 Axes>"
            ]
          },
          "metadata": {
            "tags": [],
            "needs_background": "light"
          }
        }
      ]
    },
    {
      "cell_type": "code",
      "metadata": {
        "colab": {
          "base_uri": "https://localhost:8080/",
          "height": 313
        },
        "id": "wBtoTd_fz7dZ",
        "outputId": "a457dfa9-f8d1-401f-bf00-23cf13c9d0a9"
      },
      "source": [
        "#from the chart, we can tell there are some out liners in total Bsmt SF, Gr Liv Area and Salesprice.\n",
        "# Find out the 1% percentile and the 99% percentile of Total Bsmt SF,Gr Liv Area and Salesprice.\n",
        "lower_limit1 = df2['TotalBsmtSF'].quantile(0.05)\n",
        "upper_limit1 = df2['TotalBsmtSF'].quantile(0.99)\n",
        "lower_limit2 = df2['GrLivArea'].quantile(0.05)\n",
        "upper_limit2 = df2['GrLivArea'].quantile(0.99)\n",
        "lower_limit3 = df2['SalePrice'].quantile(0.05)\n",
        "upper_limit3 = df2['SalePrice'].quantile(0.99)\n",
        "filter = (df2['TotalBsmtSF'] > lower_limit1) &(df2['TotalBsmtSF'] < upper_limit1)&(df2['GrLivArea'] > lower_limit2) &(df2['GrLivArea'] < upper_limit2)&(df2['SalePrice'] > lower_limit3) &(df2['SalePrice'] < upper_limit3)\n",
        "df3 = df2[filter]\n",
        "ax3_1=df3[\"TotalBsmtSF\"].plot(kind=\"hist\", title=\"TotalBsmtSF\")\n",
        "ax3_1.set_xlabel(\"TotalBsmtSF\")"
      ],
      "execution_count": null,
      "outputs": [
        {
          "output_type": "execute_result",
          "data": {
            "text/plain": [
              "Text(0.5, 0, 'TotalBsmtSF')"
            ]
          },
          "metadata": {
            "tags": []
          },
          "execution_count": 43
        },
        {
          "output_type": "display_data",
          "data": {
            "image/png": "[encoded data removed]",
            "text/plain": [
              "<Figure size 432x288 with 1 Axes>"
            ]
          },
          "metadata": {
            "tags": [],
            "needs_background": "light"
          }
        }
      ]
    },
    {
      "cell_type": "markdown",
      "metadata": {
        "id": "KjdLx6K6ArCm"
      },
      "source": [
        "# III: Bivariate analysis"
      ]
    },
    {
      "cell_type": "code",
      "metadata": {
        "id": "4JdOZLOoAt5-",
        "colab": {
          "base_uri": "https://localhost:8080/",
          "height": 1000
        },
        "outputId": "4c56c5da-5cfc-4011-d1b3-205241da2c5b"
      },
      "source": [
        "#1 Scatter Plot :\n",
        "ax1_1 = df3.plot.scatter(x='OverallQual',y='SalePrice', c='DarkBlue')\n",
        "ax1_1.set_xlabel(\"Quality rank vs SalePrice\")\n",
        "\n",
        "ax2_1 = df3.plot.scatter(x='YearBuilt',\n",
        "                      y='SalePrice',\n",
        "                      c='Green')\n",
        "ax2_1.set_xlabel(\"Year Built vs SalePrice\")\n",
        "\n",
        "ax3_1 = df3.plot.scatter(x='TotalBsmtSF',\n",
        "                      y='SalePrice',\n",
        "                      c='LightGreen')\n",
        "ax3_1.set_xlabel(\"Total Bsmt SF vs SalePrice\")\n",
        "\n",
        "ax4_1 = df3.plot.scatter(x='GrLivArea',\n",
        "                      y='SalePrice',\n",
        "                      c='Blue')\n",
        "ax4_1.set_xlabel(\"Gr Liv Area vs SalePrice\")"
      ],
      "execution_count": null,
      "outputs": [
        {
          "output_type": "execute_result",
          "data": {
            "text/plain": [
              "Text(0.5, 0, 'Gr Liv Area vs SalePrice')"
            ]
          },
          "metadata": {
            "tags": []
          },
          "execution_count": 44
        },
        {
          "output_type": "display_data",
          "data": {
            "image/png": "[encoded data removed]",
            "text/plain": [
              "<Figure size 432x288 with 1 Axes>"
            ]
          },
          "metadata": {
            "tags": [],
            "needs_background": "light"
          }
        },
        {
          "output_type": "display_data",
          "data": {
            "image/png": "[encoded data removed]",
            "text/plain": [
              "<Figure size 432x288 with 1 Axes>"
            ]
          },
          "metadata": {
            "tags": [],
            "needs_background": "light"
          }
        },
        {
          "output_type": "display_data",
          "data": {
            "image/png": "[encoded data removed]",
            "text/plain": [
              "<Figure size 432x288 with 1 Axes>"
            ]
          },
          "metadata": {
            "tags": [],
            "needs_background": "light"
          }
        },
        {
          "output_type": "display_data",
          "data": {
            "image/png": "[encoded data removed]",
            "text/plain": [
              "<Figure size 432x288 with 1 Axes>"
            ]
          },
          "metadata": {
            "tags": [],
            "needs_background": "light"
          }
        }
      ]
    },
    {
      "cell_type": "code",
      "metadata": {
        "colab": {
          "base_uri": "https://localhost:8080/",
          "height": 202
        },
        "id": "UM77big2GxG1",
        "outputId": "b8377d17-be14-4509-ba89-5dd234e81b17"
      },
      "source": [
        "#Calculate the correlation coefficient\n",
        "df3.corr()"
      ],
      "execution_count": null,
      "outputs": [
        {
          "output_type": "execute_result",
          "data": {
            "text/html": [
              "<div>\n",
              "<style scoped>\n",
              "    .dataframe tbody tr th:only-of-type {\n",
              "        vertical-align: middle;\n",
              "    }\n",
              "\n",
              "    .dataframe tbody tr th {\n",
              "        vertical-align: top;\n",
              "    }\n",
              "\n",
              "    .dataframe thead th {\n",
              "        text-align: right;\n",
              "    }\n",
              "</style>\n",
              "<table border=\"1\" class=\"dataframe\">\n",
              "  <thead>\n",
              "    <tr style=\"text-align: right;\">\n",
              "      <th></th>\n",
              "      <th>OverallQual</th>\n",
              "      <th>YearBuilt</th>\n",
              "      <th>TotalBsmtSF</th>\n",
              "      <th>GrLivArea</th>\n",
              "      <th>SalePrice</th>\n",
              "    </tr>\n",
              "  </thead>\n",
              "  <tbody>\n",
              "    <tr>\n",
              "      <th>OverallQual</th>\n",
              "      <td>1.000000</td>\n",
              "      <td>0.571034</td>\n",
              "      <td>0.446350</td>\n",
              "      <td>0.528568</td>\n",
              "      <td>0.793064</td>\n",
              "    </tr>\n",
              "    <tr>\n",
              "      <th>YearBuilt</th>\n",
              "      <td>0.571034</td>\n",
              "      <td>1.000000</td>\n",
              "      <td>0.385618</td>\n",
              "      <td>0.147255</td>\n",
              "      <td>0.547077</td>\n",
              "    </tr>\n",
              "    <tr>\n",
              "      <th>TotalBsmtSF</th>\n",
              "      <td>0.446350</td>\n",
              "      <td>0.385618</td>\n",
              "      <td>1.000000</td>\n",
              "      <td>0.274971</td>\n",
              "      <td>0.583525</td>\n",
              "    </tr>\n",
              "    <tr>\n",
              "      <th>GrLivArea</th>\n",
              "      <td>0.528568</td>\n",
              "      <td>0.147255</td>\n",
              "      <td>0.274971</td>\n",
              "      <td>1.000000</td>\n",
              "      <td>0.664744</td>\n",
              "    </tr>\n",
              "    <tr>\n",
              "      <th>SalePrice</th>\n",
              "      <td>0.793064</td>\n",
              "      <td>0.547077</td>\n",
              "      <td>0.583525</td>\n",
              "      <td>0.664744</td>\n",
              "      <td>1.000000</td>\n",
              "    </tr>\n",
              "  </tbody>\n",
              "</table>\n",
              "</div>"
            ],
            "text/plain": [
              "             OverallQual  YearBuilt  TotalBsmtSF  GrLivArea  SalePrice\n",
              "OverallQual     1.000000   0.571034     0.446350   0.528568   0.793064\n",
              "YearBuilt       0.571034   1.000000     0.385618   0.147255   0.547077\n",
              "TotalBsmtSF     0.446350   0.385618     1.000000   0.274971   0.583525\n",
              "GrLivArea       0.528568   0.147255     0.274971   1.000000   0.664744\n",
              "SalePrice       0.793064   0.547077     0.583525   0.664744   1.000000"
            ]
          },
          "metadata": {
            "tags": []
          },
          "execution_count": 45
        }
      ]
    },
    {
      "cell_type": "markdown",
      "metadata": {
        "id": "zOg-iUmlH2PG"
      },
      "source": [
        "From the scatter chat and correlation coefficient chart we can tell that all of other 4 features are positive corelated to the saleprice in different level. Overall, the Overall Quality has the strongest correlation with the sales price, which means the higher qualities is, the higer sales price wpuld be. Also, Year built has the weakest correlation with sale price among all those 4 features."
      ]
    },
    {
      "cell_type": "markdown",
      "metadata": {
        "id": "jbCXnJdYIlJB"
      },
      "source": [
        "# IV. Identify additional relevant feature"
      ]
    },
    {
      "cell_type": "code",
      "metadata": {
        "id": "nPuHT5Aggl1t"
      },
      "source": [
        ""
      ],
      "execution_count": null,
      "outputs": []
    },
    {
      "cell_type": "code",
      "metadata": {
        "colab": {
          "base_uri": "https://localhost:8080/"
        },
        "id": "aOKEJsFWX0ht",
        "outputId": "838bb077-02b4-450e-a227-a8461fbb09f6"
      },
      "source": [
        "#1. Find features with high correlation: \n",
        "df4=df1.select_dtypes(include=['float', 'int'] )\n",
        "print(df4.columns.values)\n",
        "cor_saleprice=df4[df4.columns[1:]].corr()['SalePrice'][:].sort_values(ascending=False)\n",
        "print(cor_saleprice.head(6))\n"
      ],
      "execution_count": null,
      "outputs": [
        {
          "output_type": "stream",
          "text": [
            "['Id' 'MSSubClass' 'LotFrontage' 'LotArea' 'OverallQual' 'OverallCond'\n",
            " 'YearBuilt' 'YearRemodAdd' 'MasVnrArea' 'BsmtFinSF1' 'BsmtFinSF2'\n",
            " 'BsmtUnfSF' 'TotalBsmtSF' '1stFlrSF' '2ndFlrSF' 'LowQualFinSF'\n",
            " 'GrLivArea' 'BsmtFullBath' 'BsmtHalfBath' 'FullBath' 'HalfBath'\n",
            " 'BedroomAbvGr' 'KitchenAbvGr' 'TotRmsAbvGrd' 'Fireplaces' 'GarageYrBlt'\n",
            " 'GarageCars' 'GarageArea' 'WoodDeckSF' 'OpenPorchSF' 'EnclosedPorch'\n",
            " '3SsnPorch' 'ScreenPorch' 'PoolArea' 'MiscVal' 'MoSold' 'YrSold'\n",
            " 'SalePrice']\n",
            "SalePrice      1.000000\n",
            "OverallQual    0.786765\n",
            "GrLivArea      0.711080\n",
            "GarageCars     0.641825\n",
            "GarageArea     0.621095\n",
            "1stFlrSF       0.614753\n",
            "Name: SalePrice, dtype: float64\n"
          ],
          "name": "stdout"
        }
      ]
    },
    {
      "cell_type": "code",
      "metadata": {
        "id": "ndq9B0h3Jox7"
      },
      "source": [
        "#As we can see that other than the feature we had before, the feature with the strongest correlation with saleprice is 1stFlrSF, which is  0.614753"
      ],
      "execution_count": null,
      "outputs": []
    },
    {
      "cell_type": "code",
      "metadata": {
        "colab": {
          "base_uri": "https://localhost:8080/"
        },
        "id": "arDLEVJyaAxK",
        "outputId": "76ff975f-a31d-41b5-95c6-9214bff3f8b4"
      },
      "source": [
        "#2. Feature engineering: \n",
        "#1) total area = total area above ground (“GrLivArea”) + total basement area (“TotalBsmtSF”)\n",
        "#2) area per room = total area above ground (“GrLivArea”) / number of rooms (“TotRmsAbvGrd”).'''\n",
        "df4['TotalArea']=df4['GrLivArea']+df4['TotalBsmtSF']\n",
        "df4['AreaPerRoom']=df4['GrLivArea']/df4['TotRmsAbvGrd']\n",
        "#print(df4.columns.values)"
      ],
      "execution_count": null,
      "outputs": [
        {
          "output_type": "stream",
          "text": [
            "/usr/local/lib/python3.7/dist-packages/ipykernel_launcher.py:4: SettingWithCopyWarning: \n",
            "A value is trying to be set on a copy of a slice from a DataFrame.\n",
            "Try using .loc[row_indexer,col_indexer] = value instead\n",
            "\n",
            "See the caveats in the documentation: https://pandas.pydata.org/pandas-docs/stable/user_guide/indexing.html#returning-a-view-versus-a-copy\n",
            "  after removing the cwd from sys.path.\n",
            "/usr/local/lib/python3.7/dist-packages/ipykernel_launcher.py:5: SettingWithCopyWarning: \n",
            "A value is trying to be set on a copy of a slice from a DataFrame.\n",
            "Try using .loc[row_indexer,col_indexer] = value instead\n",
            "\n",
            "See the caveats in the documentation: https://pandas.pydata.org/pandas-docs/stable/user_guide/indexing.html#returning-a-view-versus-a-copy\n",
            "  \"\"\"\n"
          ],
          "name": "stderr"
        }
      ]
    },
    {
      "cell_type": "code",
      "metadata": {
        "colab": {
          "base_uri": "https://localhost:8080/"
        },
        "id": "SW8hEAQN2ykG",
        "outputId": "325a4680-ed14-4d0b-9cc4-043960ba52f1"
      },
      "source": [
        "print(df4.head())"
      ],
      "execution_count": null,
      "outputs": [
        {
          "output_type": "stream",
          "text": [
            "   Id  MSSubClass  LotFrontage  ...  SalePrice  TotalArea  AreaPerRoom\n",
            "0   1          60         65.0  ...     208500       2566   213.750000\n",
            "1   2          20         80.0  ...     181500       2524   210.333333\n",
            "2   3          60         68.0  ...     223500       2706   297.666667\n",
            "3   4          70         60.0  ...     140000       2473   245.285714\n",
            "4   5          60         84.0  ...     250000       3343   244.222222\n",
            "\n",
            "[5 rows x 40 columns]\n"
          ],
          "name": "stdout"
        }
      ]
    },
    {
      "cell_type": "markdown",
      "metadata": {
        "id": "as0wzUZUlO4S"
      },
      "source": [
        "#V. Prepare data for the k-Nearest-Neighbor method."
      ]
    },
    {
      "cell_type": "code",
      "metadata": {
        "colab": {
          "base_uri": "https://localhost:8080/"
        },
        "id": "qMVvRHeQlezO",
        "outputId": "dda153b1-8396-4764-9b0b-249c5a8538b2"
      },
      "source": [
        "df5=df4[[\"OverallQual\",\"YearBuilt\",\"TotalBsmtSF\",\"GrLivArea\",'TotalArea','1stFlrSF', 'AreaPerRoom',\"SalePrice\"]]\n",
        "print(df5.head())\n",
        "df5_std=df5.std()\n",
        "print(df5_std)"
      ],
      "execution_count": null,
      "outputs": [
        {
          "output_type": "stream",
          "text": [
            "   OverallQual  YearBuilt  TotalBsmtSF  ...  1stFlrSF  AreaPerRoom  SalePrice\n",
            "0            7       2003          856  ...       856   213.750000     208500\n",
            "1            6       1976         1262  ...      1262   210.333333     181500\n",
            "2            7       2001          920  ...       920   297.666667     223500\n",
            "3            7       1915          756  ...       961   245.285714     140000\n",
            "4            8       2000         1145  ...      1145   244.222222     250000\n",
            "\n",
            "[5 rows x 8 columns]\n",
            "OverallQual        1.357655\n",
            "YearBuilt         30.371732\n",
            "TotalBsmtSF      404.766998\n",
            "GrLivArea        526.846267\n",
            "TotalArea        801.988200\n",
            "1stFlrSF         385.285816\n",
            "AreaPerRoom       44.673332\n",
            "SalePrice      79270.416057\n",
            "dtype: float64\n"
          ],
          "name": "stdout"
        }
      ]
    },
    {
      "cell_type": "markdown",
      "metadata": {
        "id": "Ynw_tHBZmxLB"
      },
      "source": [
        "#VI. Apply the kNN (k=5) method to predict the sale price of the first instance from the test set."
      ]
    },
    {
      "cell_type": "code",
      "metadata": {
        "colab": {
          "base_uri": "https://localhost:8080/"
        },
        "id": "TSiXKKwpm0hX",
        "outputId": "694b9ec4-a443-44ac-8e83-f9f060ec7c74"
      },
      "source": [
        "df_test= pd.read_csv(r'/gdrive/My Drive/2021 GC/dm/homework2/test.csv')\n",
        "\n",
        "df_test['TotalArea']=df_test['GrLivArea']+df_test['TotalBsmtSF']\n",
        "df_test['AreaPerRoom']=df_test['GrLivArea']/df_test['TotRmsAbvGrd']\n",
        "df_test1=df_test[[\"OverallQual\",\"YearBuilt\",\"TotalBsmtSF\",\"GrLivArea\",'1stFlrSF','TotalArea','AreaPerRoom',]].iloc[0:1, :]\n",
        "print(df_test1)\n",
        "df_test1[\"OverallQual\"].loc[0]"
      ],
      "execution_count": null,
      "outputs": [
        {
          "output_type": "stream",
          "text": [
            "   OverallQual  YearBuilt  TotalBsmtSF  ...  1stFlrSF  TotalArea  AreaPerRoom\n",
            "0            5       1961        882.0  ...       896     1778.0        179.2\n",
            "\n",
            "[1 rows x 7 columns]\n"
          ],
          "name": "stdout"
        },
        {
          "output_type": "execute_result",
          "data": {
            "text/plain": [
              "5"
            ]
          },
          "metadata": {
            "tags": []
          },
          "execution_count": 131
        }
      ]
    },
    {
      "cell_type": "code",
      "metadata": {
        "id": "0HroTHtmmR6G",
        "colab": {
          "base_uri": "https://localhost:8080/",
          "height": 326
        },
        "outputId": "70b8f08c-63c1-4374-cabf-5bd11dbbd042"
      },
      "source": [
        "a=abs(df5[\"OverallQual\"]-df_test1['OverallQual'].loc[0])/df5_std[0]\n",
        "b=abs(df5[\"YearBuilt\"]-df_test1['YearBuilt'].loc[0])/df5_std[1]\n",
        "c=abs(df5[\"TotalBsmtSF\"]-df_test1['TotalBsmtSF'].loc[0])/df5_std[2]\n",
        "d=abs(df5[\"GrLivArea\"]-df_test1['GrLivArea'].loc[0])/df5_std[3]\n",
        "e=abs(df5[\"1stFlrSF\"]-df_test1['1stFlrSF'].loc[0])/df5_std[4]\n",
        "f=abs(df5[\"TotalArea\"]-df_test1['TotalArea'].loc[0])/df5_std[5]\n",
        "j=abs(df5[\"AreaPerRoom\"]-df_test1['AreaPerRoom']).loc[0]/df5_std[6]\n",
        "df5['Diff']=a+b+c+d+e+f+j\n",
        "df5.head(5)"
      ],
      "execution_count": null,
      "outputs": [
        {
          "output_type": "stream",
          "text": [
            "/usr/local/lib/python3.7/dist-packages/ipykernel_launcher.py:9: SettingWithCopyWarning: \n",
            "A value is trying to be set on a copy of a slice from a DataFrame.\n",
            "Try using .loc[row_indexer,col_indexer] = value instead\n",
            "\n",
            "See the caveats in the documentation: https://pandas.pydata.org/pandas-docs/stable/user_guide/indexing.html#returning-a-view-versus-a-copy\n",
            "  if __name__ == '__main__':\n"
          ],
          "name": "stderr"
        },
        {
          "output_type": "execute_result",
          "data": {
            "text/html": [
              "<div>\n",
              "<style scoped>\n",
              "    .dataframe tbody tr th:only-of-type {\n",
              "        vertical-align: middle;\n",
              "    }\n",
              "\n",
              "    .dataframe tbody tr th {\n",
              "        vertical-align: top;\n",
              "    }\n",
              "\n",
              "    .dataframe thead th {\n",
              "        text-align: right;\n",
              "    }\n",
              "</style>\n",
              "<table border=\"1\" class=\"dataframe\">\n",
              "  <thead>\n",
              "    <tr style=\"text-align: right;\">\n",
              "      <th></th>\n",
              "      <th>OverallQual</th>\n",
              "      <th>YearBuilt</th>\n",
              "      <th>TotalBsmtSF</th>\n",
              "      <th>GrLivArea</th>\n",
              "      <th>TotalArea</th>\n",
              "      <th>1stFlrSF</th>\n",
              "      <th>AreaPerRoom</th>\n",
              "      <th>SalePrice</th>\n",
              "      <th>Diff</th>\n",
              "    </tr>\n",
              "  </thead>\n",
              "  <tbody>\n",
              "    <tr>\n",
              "      <th>0</th>\n",
              "      <td>7</td>\n",
              "      <td>2003</td>\n",
              "      <td>856</td>\n",
              "      <td>1710</td>\n",
              "      <td>2566</td>\n",
              "      <td>856</td>\n",
              "      <td>213.750000</td>\n",
              "      <td>208500</td>\n",
              "      <td>7.333773</td>\n",
              "    </tr>\n",
              "    <tr>\n",
              "      <th>1</th>\n",
              "      <td>6</td>\n",
              "      <td>1976</td>\n",
              "      <td>1262</td>\n",
              "      <td>1262</td>\n",
              "      <td>2524</td>\n",
              "      <td>1262</td>\n",
              "      <td>210.333333</td>\n",
              "      <td>181500</td>\n",
              "      <td>6.029939</td>\n",
              "    </tr>\n",
              "    <tr>\n",
              "      <th>2</th>\n",
              "      <td>7</td>\n",
              "      <td>2001</td>\n",
              "      <td>920</td>\n",
              "      <td>1786</td>\n",
              "      <td>2706</td>\n",
              "      <td>920</td>\n",
              "      <td>297.666667</td>\n",
              "      <td>223500</td>\n",
              "      <td>7.785240</td>\n",
              "    </tr>\n",
              "    <tr>\n",
              "      <th>3</th>\n",
              "      <td>7</td>\n",
              "      <td>1915</td>\n",
              "      <td>756</td>\n",
              "      <td>1717</td>\n",
              "      <td>2473</td>\n",
              "      <td>961</td>\n",
              "      <td>245.285714</td>\n",
              "      <td>140000</td>\n",
              "      <td>7.515610</td>\n",
              "    </tr>\n",
              "    <tr>\n",
              "      <th>4</th>\n",
              "      <td>8</td>\n",
              "      <td>2000</td>\n",
              "      <td>1145</td>\n",
              "      <td>2198</td>\n",
              "      <td>3343</td>\n",
              "      <td>1145</td>\n",
              "      <td>244.222222</td>\n",
              "      <td>250000</td>\n",
              "      <td>11.760637</td>\n",
              "    </tr>\n",
              "  </tbody>\n",
              "</table>\n",
              "</div>"
            ],
            "text/plain": [
              "   OverallQual  YearBuilt  TotalBsmtSF  ...  AreaPerRoom  SalePrice       Diff\n",
              "0            7       2003          856  ...   213.750000     208500   7.333773\n",
              "1            6       1976         1262  ...   210.333333     181500   6.029939\n",
              "2            7       2001          920  ...   297.666667     223500   7.785240\n",
              "3            7       1915          756  ...   245.285714     140000   7.515610\n",
              "4            8       2000         1145  ...   244.222222     250000  11.760637\n",
              "\n",
              "[5 rows x 9 columns]"
            ]
          },
          "metadata": {
            "tags": []
          },
          "execution_count": 132
        }
      ]
    },
    {
      "cell_type": "code",
      "metadata": {
        "colab": {
          "base_uri": "https://localhost:8080/",
          "height": 202
        },
        "id": "KrBy15AByEhW",
        "outputId": "b5236fca-65d7-4d02-ab9f-7f2a11bf8127"
      },
      "source": [
        "df5_sorted=df5.sort_values(by=['Diff'],ascending=False)\n",
        "df5_sorted.head()"
      ],
      "execution_count": null,
      "outputs": [
        {
          "output_type": "execute_result",
          "data": {
            "text/html": [
              "<div>\n",
              "<style scoped>\n",
              "    .dataframe tbody tr th:only-of-type {\n",
              "        vertical-align: middle;\n",
              "    }\n",
              "\n",
              "    .dataframe tbody tr th {\n",
              "        vertical-align: top;\n",
              "    }\n",
              "\n",
              "    .dataframe thead th {\n",
              "        text-align: right;\n",
              "    }\n",
              "</style>\n",
              "<table border=\"1\" class=\"dataframe\">\n",
              "  <thead>\n",
              "    <tr style=\"text-align: right;\">\n",
              "      <th></th>\n",
              "      <th>OverallQual</th>\n",
              "      <th>YearBuilt</th>\n",
              "      <th>TotalBsmtSF</th>\n",
              "      <th>GrLivArea</th>\n",
              "      <th>TotalArea</th>\n",
              "      <th>1stFlrSF</th>\n",
              "      <th>AreaPerRoom</th>\n",
              "      <th>SalePrice</th>\n",
              "      <th>Diff</th>\n",
              "    </tr>\n",
              "  </thead>\n",
              "  <tbody>\n",
              "    <tr>\n",
              "      <th>1298</th>\n",
              "      <td>10</td>\n",
              "      <td>2008</td>\n",
              "      <td>6110</td>\n",
              "      <td>5642</td>\n",
              "      <td>11752</td>\n",
              "      <td>4692</td>\n",
              "      <td>470.166667</td>\n",
              "      <td>160000</td>\n",
              "      <td>58.548610</td>\n",
              "    </tr>\n",
              "    <tr>\n",
              "      <th>523</th>\n",
              "      <td>10</td>\n",
              "      <td>2007</td>\n",
              "      <td>3138</td>\n",
              "      <td>4676</td>\n",
              "      <td>7814</td>\n",
              "      <td>3138</td>\n",
              "      <td>425.090909</td>\n",
              "      <td>184750</td>\n",
              "      <td>37.180969</td>\n",
              "    </tr>\n",
              "    <tr>\n",
              "      <th>1182</th>\n",
              "      <td>10</td>\n",
              "      <td>1996</td>\n",
              "      <td>2396</td>\n",
              "      <td>4476</td>\n",
              "      <td>6872</td>\n",
              "      <td>2411</td>\n",
              "      <td>447.600000</td>\n",
              "      <td>745000</td>\n",
              "      <td>31.254584</td>\n",
              "    </tr>\n",
              "    <tr>\n",
              "      <th>691</th>\n",
              "      <td>10</td>\n",
              "      <td>1994</td>\n",
              "      <td>2444</td>\n",
              "      <td>4316</td>\n",
              "      <td>6760</td>\n",
              "      <td>2444</td>\n",
              "      <td>431.600000</td>\n",
              "      <td>755000</td>\n",
              "      <td>30.754080</td>\n",
              "    </tr>\n",
              "    <tr>\n",
              "      <th>496</th>\n",
              "      <td>8</td>\n",
              "      <td>1992</td>\n",
              "      <td>3200</td>\n",
              "      <td>3228</td>\n",
              "      <td>6428</td>\n",
              "      <td>3228</td>\n",
              "      <td>322.800000</td>\n",
              "      <td>430000</td>\n",
              "      <td>29.133596</td>\n",
              "    </tr>\n",
              "  </tbody>\n",
              "</table>\n",
              "</div>"
            ],
            "text/plain": [
              "      OverallQual  YearBuilt  TotalBsmtSF  ...  AreaPerRoom  SalePrice       Diff\n",
              "1298           10       2008         6110  ...   470.166667     160000  58.548610\n",
              "523            10       2007         3138  ...   425.090909     184750  37.180969\n",
              "1182           10       1996         2396  ...   447.600000     745000  31.254584\n",
              "691            10       1994         2444  ...   431.600000     755000  30.754080\n",
              "496             8       1992         3200  ...   322.800000     430000  29.133596\n",
              "\n",
              "[5 rows x 9 columns]"
            ]
          },
          "metadata": {
            "tags": []
          },
          "execution_count": 137
        }
      ]
    },
    {
      "cell_type": "code",
      "metadata": {
        "colab": {
          "base_uri": "https://localhost:8080/"
        },
        "id": "t8LaJ0mhYEqU",
        "outputId": "b95c03af-41f9-4b8e-aa2d-94586e3c65c0"
      },
      "source": [
        "p_price=df5_sorted['SalePrice'].head(5).mean()\n",
        "print('the perdiction of price is:',p_price)"
      ],
      "execution_count": null,
      "outputs": [
        {
          "output_type": "stream",
          "text": [
            "the perdiction of price is: 454950.0\n"
          ],
          "name": "stdout"
        }
      ]
    },
    {
      "cell_type": "code",
      "metadata": {
        "id": "AwflidnxYEh6"
      },
      "source": [
        ""
      ],
      "execution_count": null,
      "outputs": []
    },
    {
      "cell_type": "code",
      "metadata": {
        "id": "N7-IKk3-ZoZw"
      },
      "source": [
        ""
      ],
      "execution_count": null,
      "outputs": []
    }
  ]
}